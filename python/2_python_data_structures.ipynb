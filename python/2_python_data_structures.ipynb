{
 "cells": [
  {
   "cell_type": "markdown",
   "id": "af799e09",
   "metadata": {},
   "source": [
    "# PYTHON DATA STRUCTURES"
   ]
  },
  {
   "cell_type": "markdown",
   "id": "f48da9c4",
   "metadata": {},
   "source": [
    "# LIST"
   ]
  },
  {
   "cell_type": "code",
   "execution_count": 4,
   "id": "a542f9ec",
   "metadata": {},
   "outputs": [],
   "source": [
    "grades = [23, 25, 40, 77]"
   ]
  },
  {
   "cell_type": "code",
   "execution_count": 5,
   "id": "2df7ff8d",
   "metadata": {},
   "outputs": [
    {
     "name": "stdout",
     "output_type": "stream",
     "text": [
      "[23, 25, 40, 77]\n"
     ]
    }
   ],
   "source": [
    "print(grades)"
   ]
  },
  {
   "cell_type": "code",
   "execution_count": 7,
   "id": "c837d16c",
   "metadata": {},
   "outputs": [
    {
     "name": "stdout",
     "output_type": "stream",
     "text": [
      "<class 'list'>\n"
     ]
    }
   ],
   "source": [
    "print(type(grades))"
   ]
  },
  {
   "cell_type": "code",
   "execution_count": 6,
   "id": "f1174c8f",
   "metadata": {},
   "outputs": [],
   "source": [
    "students = [\"Bob\", \"Wale\", \"Dre\"]"
   ]
  },
  {
   "cell_type": "code",
   "execution_count": 8,
   "id": "0bc48a40",
   "metadata": {},
   "outputs": [
    {
     "name": "stdout",
     "output_type": "stream",
     "text": [
      "['Bob', 'Wale', 'Dre']\n"
     ]
    }
   ],
   "source": [
    "print(students)"
   ]
  },
  {
   "cell_type": "code",
   "execution_count": 9,
   "id": "934fc60e",
   "metadata": {},
   "outputs": [
    {
     "name": "stdout",
     "output_type": "stream",
     "text": [
      "<class 'list'>\n"
     ]
    }
   ],
   "source": [
    "print(type(students))"
   ]
  },
  {
   "cell_type": "code",
   "execution_count": 10,
   "id": "fa51e728",
   "metadata": {},
   "outputs": [],
   "source": [
    "profile = [\"Clinton\", 25, 7.8, True]"
   ]
  },
  {
   "cell_type": "code",
   "execution_count": 11,
   "id": "68d7396b",
   "metadata": {},
   "outputs": [
    {
     "name": "stdout",
     "output_type": "stream",
     "text": [
      "['Clinton', 25, 7.8, True]\n"
     ]
    }
   ],
   "source": [
    "print(profile)"
   ]
  },
  {
   "cell_type": "code",
   "execution_count": 12,
   "id": "91699378",
   "metadata": {},
   "outputs": [
    {
     "name": "stdout",
     "output_type": "stream",
     "text": [
      "<class 'list'>\n"
     ]
    }
   ],
   "source": [
    "print(type(profile))"
   ]
  },
  {
   "cell_type": "code",
   "execution_count": 13,
   "id": "31133047",
   "metadata": {},
   "outputs": [],
   "source": [
    "empty_list = []"
   ]
  },
  {
   "cell_type": "code",
   "execution_count": 14,
   "id": "9350ee2c",
   "metadata": {},
   "outputs": [
    {
     "name": "stdout",
     "output_type": "stream",
     "text": [
      "[]\n"
     ]
    }
   ],
   "source": [
    "print(empty_list)"
   ]
  },
  {
   "cell_type": "code",
   "execution_count": 15,
   "id": "7b8e9d9d",
   "metadata": {},
   "outputs": [
    {
     "name": "stdout",
     "output_type": "stream",
     "text": [
      "<class 'list'>\n"
     ]
    }
   ],
   "source": [
    "print(type(empty_list))"
   ]
  },
  {
   "cell_type": "markdown",
   "id": "aca7f455",
   "metadata": {},
   "source": [
    "### LIST LENGTH"
   ]
  },
  {
   "cell_type": "code",
   "execution_count": 24,
   "id": "8087bbaf",
   "metadata": {},
   "outputs": [],
   "source": [
    "lst = [1, 3, 5]"
   ]
  },
  {
   "cell_type": "code",
   "execution_count": 25,
   "id": "413d340f",
   "metadata": {},
   "outputs": [
    {
     "name": "stdout",
     "output_type": "stream",
     "text": [
      "3\n"
     ]
    }
   ],
   "source": [
    "print(len(lst))"
   ]
  },
  {
   "cell_type": "code",
   "execution_count": null,
   "id": "f3818f86",
   "metadata": {},
   "outputs": [],
   "source": []
  },
  {
   "cell_type": "markdown",
   "id": "9fc18cdf",
   "metadata": {},
   "source": [
    "### ACCESS ELEMENTS IN LIST"
   ]
  },
  {
   "cell_type": "markdown",
   "id": "6ea536de",
   "metadata": {},
   "source": [
    "Numbering in python\n",
    "\n",
    "A  U  T  O\n",
    "\n",
    "1  2  3  4   - Human Numbering\n",
    "\n",
    "0  1  2  3   - Python Numbering"
   ]
  },
  {
   "cell_type": "code",
   "execution_count": 22,
   "id": "fa07afb7",
   "metadata": {},
   "outputs": [],
   "source": [
    "numbers = [2, 4, 3, 5, 7, 3, 5]"
   ]
  },
  {
   "cell_type": "code",
   "execution_count": 23,
   "id": "ad9904cb",
   "metadata": {},
   "outputs": [
    {
     "name": "stdout",
     "output_type": "stream",
     "text": [
      "2\n"
     ]
    }
   ],
   "source": [
    "print(numbers[0])"
   ]
  },
  {
   "cell_type": "code",
   "execution_count": null,
   "id": "16834721",
   "metadata": {},
   "outputs": [],
   "source": []
  },
  {
   "cell_type": "code",
   "execution_count": null,
   "id": "d5076bea",
   "metadata": {},
   "outputs": [],
   "source": []
  },
  {
   "cell_type": "markdown",
   "id": "b9478533",
   "metadata": {},
   "source": [
    "### LIST METHODS"
   ]
  },
  {
   "cell_type": "markdown",
   "id": "a25dd635",
   "metadata": {},
   "source": [
    "https://www.w3schools.com/python/python_ref_list.asp"
   ]
  },
  {
   "cell_type": "markdown",
   "id": "42dee12a",
   "metadata": {},
   "source": [
    "# DICTIONARY"
   ]
  },
  {
   "cell_type": "code",
   "execution_count": 16,
   "id": "e96a2d19",
   "metadata": {},
   "outputs": [],
   "source": [
    "bootcamp = {\"name\": \"CoreDataEngineers\", \"age\": 1, \"Location\": \"Germany\"}"
   ]
  },
  {
   "cell_type": "code",
   "execution_count": 17,
   "id": "a866ee2b",
   "metadata": {},
   "outputs": [
    {
     "name": "stdout",
     "output_type": "stream",
     "text": [
      "{'name': 'CoreDataEngineers', 'age': 1, 'Location': 'Germany'}\n"
     ]
    }
   ],
   "source": [
    "print(bootcamp)"
   ]
  },
  {
   "cell_type": "code",
   "execution_count": 18,
   "id": "3920e2cf",
   "metadata": {},
   "outputs": [
    {
     "name": "stdout",
     "output_type": "stream",
     "text": [
      "<class 'dict'>\n"
     ]
    }
   ],
   "source": [
    "print(type(bootcamp))"
   ]
  },
  {
   "cell_type": "code",
   "execution_count": 19,
   "id": "c7d505d9",
   "metadata": {},
   "outputs": [],
   "source": [
    "grade_scores = {\"math\": 34, \"english\": 50, \"economics\": 20}"
   ]
  },
  {
   "cell_type": "code",
   "execution_count": 20,
   "id": "0d39cd70",
   "metadata": {},
   "outputs": [
    {
     "name": "stdout",
     "output_type": "stream",
     "text": [
      "{'math': 34, 'english': 50, 'economics': 20}\n"
     ]
    }
   ],
   "source": [
    "print(grade_scores)"
   ]
  },
  {
   "cell_type": "code",
   "execution_count": 21,
   "id": "88710f0b",
   "metadata": {},
   "outputs": [
    {
     "name": "stdout",
     "output_type": "stream",
     "text": [
      "<class 'dict'>\n"
     ]
    }
   ],
   "source": [
    "print(type(grade_scores))"
   ]
  },
  {
   "cell_type": "code",
   "execution_count": 42,
   "id": "6a80fa17",
   "metadata": {},
   "outputs": [],
   "source": [
    "empty = {}"
   ]
  },
  {
   "cell_type": "code",
   "execution_count": 43,
   "id": "730e4313",
   "metadata": {},
   "outputs": [
    {
     "name": "stdout",
     "output_type": "stream",
     "text": [
      "<class 'dict'>\n"
     ]
    }
   ],
   "source": [
    "print(type(empty))"
   ]
  },
  {
   "cell_type": "markdown",
   "id": "f755f040",
   "metadata": {},
   "source": [
    "### DICTIONARY LENGTH"
   ]
  },
  {
   "cell_type": "code",
   "execution_count": 26,
   "id": "6beb7bf3",
   "metadata": {},
   "outputs": [],
   "source": [
    "new_dict = {\"age\": 24, \"car\": \"BMW\"}"
   ]
  },
  {
   "cell_type": "code",
   "execution_count": 28,
   "id": "1712721d",
   "metadata": {},
   "outputs": [
    {
     "name": "stdout",
     "output_type": "stream",
     "text": [
      "2\n"
     ]
    }
   ],
   "source": [
    "print(len(new_dict))"
   ]
  },
  {
   "cell_type": "markdown",
   "id": "6985c305",
   "metadata": {},
   "source": [
    "### DICTIONARY METHODS"
   ]
  },
  {
   "cell_type": "markdown",
   "id": "d99a42c5",
   "metadata": {},
   "source": [
    "https://www.w3schools.com/python/python_dictionaries_methods.asp"
   ]
  },
  {
   "cell_type": "markdown",
   "id": "1ccf4537",
   "metadata": {},
   "source": [
    "# TUPLE"
   ]
  },
  {
   "cell_type": "code",
   "execution_count": 29,
   "id": "ae6b7af0",
   "metadata": {},
   "outputs": [],
   "source": [
    "tup = (2, 4, 3, 56)"
   ]
  },
  {
   "cell_type": "code",
   "execution_count": 30,
   "id": "70491518",
   "metadata": {},
   "outputs": [
    {
     "name": "stdout",
     "output_type": "stream",
     "text": [
      "(2, 4, 3, 56)\n"
     ]
    }
   ],
   "source": [
    "print(tup)"
   ]
  },
  {
   "cell_type": "code",
   "execution_count": 31,
   "id": "e163c0f0",
   "metadata": {},
   "outputs": [
    {
     "name": "stdout",
     "output_type": "stream",
     "text": [
      "<class 'tuple'>\n"
     ]
    }
   ],
   "source": [
    "print(type(tup))"
   ]
  },
  {
   "cell_type": "markdown",
   "id": "b8239687",
   "metadata": {},
   "source": [
    "#### TUPLE LENGTH"
   ]
  },
  {
   "cell_type": "code",
   "execution_count": 32,
   "id": "61ab0f11",
   "metadata": {},
   "outputs": [],
   "source": [
    "new_tup = (\"you\", \"are\", \"welcome\")"
   ]
  },
  {
   "cell_type": "code",
   "execution_count": 33,
   "id": "16652282",
   "metadata": {},
   "outputs": [
    {
     "name": "stdout",
     "output_type": "stream",
     "text": [
      "('you', 'are', 'welcome')\n"
     ]
    }
   ],
   "source": [
    "print(new_tup)"
   ]
  },
  {
   "cell_type": "code",
   "execution_count": 34,
   "id": "bb67f89b",
   "metadata": {},
   "outputs": [
    {
     "name": "stdout",
     "output_type": "stream",
     "text": [
      "3\n"
     ]
    }
   ],
   "source": [
    "print(len(new_tup))"
   ]
  },
  {
   "cell_type": "markdown",
   "id": "3f703846",
   "metadata": {},
   "source": [
    "#### TUPLE METHODS"
   ]
  },
  {
   "cell_type": "markdown",
   "id": "f3ef9f22",
   "metadata": {},
   "source": [
    "https://www.w3schools.com/python/python_tuples_methods.asp"
   ]
  },
  {
   "cell_type": "markdown",
   "id": "8af8b60e",
   "metadata": {},
   "source": [
    "# SET"
   ]
  },
  {
   "cell_type": "code",
   "execution_count": 36,
   "id": "64f8b7da",
   "metadata": {},
   "outputs": [],
   "source": [
    "random_set = {2, 4, 6, 9}"
   ]
  },
  {
   "cell_type": "code",
   "execution_count": 37,
   "id": "b79fee2c",
   "metadata": {},
   "outputs": [
    {
     "name": "stdout",
     "output_type": "stream",
     "text": [
      "{9, 2, 4, 6}\n"
     ]
    }
   ],
   "source": [
    "print(random_set)"
   ]
  },
  {
   "cell_type": "code",
   "execution_count": 38,
   "id": "2902b766",
   "metadata": {},
   "outputs": [
    {
     "name": "stdout",
     "output_type": "stream",
     "text": [
      "<class 'set'>\n"
     ]
    }
   ],
   "source": [
    "print(type(random_set))"
   ]
  },
  {
   "cell_type": "code",
   "execution_count": 39,
   "id": "39921b67",
   "metadata": {},
   "outputs": [],
   "source": [
    "duplicate_set = {2, 2, 2, 2, 2}"
   ]
  },
  {
   "cell_type": "code",
   "execution_count": 40,
   "id": "b10884ee",
   "metadata": {},
   "outputs": [
    {
     "name": "stdout",
     "output_type": "stream",
     "text": [
      "{2}\n"
     ]
    }
   ],
   "source": [
    "print(duplicate_set)"
   ]
  },
  {
   "cell_type": "code",
   "execution_count": 41,
   "id": "04a15aa7",
   "metadata": {},
   "outputs": [
    {
     "name": "stdout",
     "output_type": "stream",
     "text": [
      "<class 'set'>\n"
     ]
    }
   ],
   "source": [
    "print(type(duplicate_set))"
   ]
  },
  {
   "cell_type": "code",
   "execution_count": null,
   "id": "77565daf",
   "metadata": {},
   "outputs": [],
   "source": []
  }
 ],
 "metadata": {
  "kernelspec": {
   "display_name": "Python 3 (ipykernel)",
   "language": "python",
   "name": "python3"
  },
  "language_info": {
   "codemirror_mode": {
    "name": "ipython",
    "version": 3
   },
   "file_extension": ".py",
   "mimetype": "text/x-python",
   "name": "python",
   "nbconvert_exporter": "python",
   "pygments_lexer": "ipython3",
   "version": "3.10.9"
  }
 },
 "nbformat": 4,
 "nbformat_minor": 5
}
